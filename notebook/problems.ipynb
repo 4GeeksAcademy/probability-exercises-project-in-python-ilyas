{
 "cells": [
  {
   "cell_type": "markdown",
   "id": "a41f3622",
   "metadata": {},
   "source": [
    "# Probability exercises"
   ]
  },
  {
   "cell_type": "markdown",
   "id": "a6bdbd89",
   "metadata": {},
   "source": [
    "## Exercise 1 \n",
    "\n",
    "Two dices are thrown once and the total score is observed. Use a simulation to find the estimated probability that the total score is even or greater than 7.  A simulation is a repetition of the same experiment multiple times to observe its behavior:\n",
    "\n",
    "- Run the experiment 1000 times (roll 2 dice 1000 times, and sum the number of both dices).\n",
    "- Keep track of the number of times that the sum was either greater than 7 or an even number.\n",
    "- Divide the number from step 2 by the number of iterations (1000)."
   ]
  },
  {
   "cell_type": "code",
   "execution_count": 29,
   "id": "8939d892",
   "metadata": {},
   "outputs": [],
   "source": [
    "# TODO\n",
    "import numpy as np\n",
    "\n",
    "list_prob = []\n",
    "num_experiments = 1000\n",
    "\n",
    "for _ in range(100):\n",
    "\n",
    "    count = 0\n",
    "    for i in range(num_experiments):\n",
    "        dice1 = np.random.randint(1, 7)\n",
    "        dice2 = np.random.randint(1, 7)\n",
    "\n",
    "        total = dice1 + dice2\n",
    "\n",
    "        # print(total)\n",
    "\n",
    "        if (total > 7) or (total % 2 == 0):\n",
    "            count += 1\n",
    "        \n",
    "\n",
    "        # print(f\"Total {total}, Count: {count}\")\n",
    "\n",
    "        # Probability that the sum was either greater than 7 or an even number:\n",
    "        prob = count/num_experiments\n",
    "\n",
    "    list_prob.append(prob)"
   ]
  },
  {
   "cell_type": "code",
   "execution_count": 30,
   "id": "2dc14413",
   "metadata": {},
   "outputs": [
    {
     "data": {
      "text/plain": [
       "[0.673,\n",
       " 0.683,\n",
       " 0.659,\n",
       " 0.662,\n",
       " 0.691,\n",
       " 0.664,\n",
       " 0.672,\n",
       " 0.669,\n",
       " 0.666,\n",
       " 0.636,\n",
       " 0.681,\n",
       " 0.684,\n",
       " 0.669,\n",
       " 0.669,\n",
       " 0.704,\n",
       " 0.661,\n",
       " 0.655,\n",
       " 0.67,\n",
       " 0.659,\n",
       " 0.652,\n",
       " 0.671,\n",
       " 0.632,\n",
       " 0.685,\n",
       " 0.704,\n",
       " 0.659,\n",
       " 0.688,\n",
       " 0.651,\n",
       " 0.64,\n",
       " 0.667,\n",
       " 0.647,\n",
       " 0.635,\n",
       " 0.694,\n",
       " 0.673,\n",
       " 0.684,\n",
       " 0.667,\n",
       " 0.675,\n",
       " 0.673,\n",
       " 0.667,\n",
       " 0.666,\n",
       " 0.669,\n",
       " 0.661,\n",
       " 0.641,\n",
       " 0.674,\n",
       " 0.656,\n",
       " 0.641,\n",
       " 0.661,\n",
       " 0.675,\n",
       " 0.655,\n",
       " 0.638,\n",
       " 0.666,\n",
       " 0.654,\n",
       " 0.656,\n",
       " 0.657,\n",
       " 0.661,\n",
       " 0.663,\n",
       " 0.668,\n",
       " 0.656,\n",
       " 0.672,\n",
       " 0.672,\n",
       " 0.67,\n",
       " 0.661,\n",
       " 0.673,\n",
       " 0.656,\n",
       " 0.656,\n",
       " 0.648,\n",
       " 0.645,\n",
       " 0.647,\n",
       " 0.677,\n",
       " 0.663,\n",
       " 0.669,\n",
       " 0.684,\n",
       " 0.658,\n",
       " 0.702,\n",
       " 0.687,\n",
       " 0.661,\n",
       " 0.652,\n",
       " 0.659,\n",
       " 0.651,\n",
       " 0.66,\n",
       " 0.683,\n",
       " 0.671,\n",
       " 0.675,\n",
       " 0.67,\n",
       " 0.674,\n",
       " 0.686,\n",
       " 0.647,\n",
       " 0.658,\n",
       " 0.647,\n",
       " 0.68,\n",
       " 0.671,\n",
       " 0.666,\n",
       " 0.683,\n",
       " 0.675,\n",
       " 0.667,\n",
       " 0.666,\n",
       " 0.679,\n",
       " 0.679,\n",
       " 0.658,\n",
       " 0.667,\n",
       " 0.673]"
      ]
     },
     "execution_count": 30,
     "metadata": {},
     "output_type": "execute_result"
    }
   ],
   "source": [
    "list_prob"
   ]
  },
  {
   "cell_type": "code",
   "execution_count": 31,
   "id": "834b7052",
   "metadata": {},
   "outputs": [
    {
     "data": {
      "text/plain": [
       "np.float64(0.6660699999999999)"
      ]
     },
     "execution_count": 31,
     "metadata": {},
     "output_type": "execute_result"
    }
   ],
   "source": [
    "np.array(list_prob).mean()"
   ]
  },
  {
   "cell_type": "markdown",
   "id": "55732bca",
   "metadata": {},
   "source": [
    "## Exercise 2\n",
    "\n",
    "A box contains 10 white balls, 20 red balls and 30 green balls. If we take 5 balls from the box with replacement (we take the ball, observe what color it is and put it back into the box). We want to know the probability of:\n",
    "\n",
    "1. Take 3 white and 2 red.\n",
    "2. Take all of the same color.\n",
    "\n",
    "Run the experiment 1000 times and calculate the above probabilities."
   ]
  },
  {
   "cell_type": "code",
   "execution_count": 1,
   "id": "23244d20",
   "metadata": {},
   "outputs": [
    {
     "name": "stdout",
     "output_type": "stream",
     "text": [
      "{0: 'White', 1: 'White', 2: 'White', 3: 'White', 4: 'White', 5: 'White', 6: 'White', 7: 'White', 8: 'White', 9: 'White', 10: 'Red', 11: 'Red', 12: 'Red', 13: 'Red', 14: 'Red', 15: 'Red', 16: 'Red', 17: 'Red', 18: 'Red', 19: 'Red', 20: 'Red', 21: 'Red', 22: 'Red', 23: 'Red', 24: 'Red', 25: 'Red', 26: 'Red', 27: 'Red', 28: 'Red', 29: 'Red', 30: 'Green', 31: 'Green', 32: 'Green', 33: 'Green', 34: 'Green', 35: 'Green', 36: 'Green', 37: 'Green', 38: 'Green', 39: 'Green', 40: 'Green', 41: 'Green', 42: 'Green', 43: 'Green', 44: 'Green', 45: 'Green', 46: 'Green', 47: 'Green', 48: 'Green', 49: 'Green', 50: 'Green', 51: 'Green', 52: 'Green', 53: 'Green', 54: 'Green', 55: 'Green', 56: 'Green', 57: 'Green', 58: 'Green', 59: 'Green'}\n"
     ]
    }
   ],
   "source": [
    "ball_box = {}\n",
    "\n",
    "# Create the box of balls\n",
    "for i in range(60):\n",
    "    if i < 10:\n",
    "        ball_box[i] = \"White\"\n",
    "    elif (i > 9) and (i < 30):\n",
    "        ball_box[i] = \"Red\"\n",
    "    else:\n",
    "        ball_box[i] = \"Green\"\n",
    "\n",
    "print(ball_box)\n",
    "            \n",
    "# TODO"
   ]
  },
  {
   "cell_type": "code",
   "execution_count": 53,
   "id": "ae023409",
   "metadata": {},
   "outputs": [],
   "source": [
    "import numpy as np \n",
    "\n",
    "n_simulations = 1000\n",
    "count_3white_2red = 0\n",
    "count_balls_all_same = 0\n",
    "for i in range(n_simulations):\n",
    "    \n",
    "    # k = np.random.randint(0, 60)\n",
    "    # print(ball_box[k])\n",
    "\n",
    "    balls = []\n",
    "\n",
    "    for _ in range(5):\n",
    "        k = np.random.randint(0, 60)\n",
    "        balls.append(ball_box[k])\n",
    "\n",
    "    balls = np.array(balls)\n",
    "    \n",
    "    whites = sum(balls == \"White\")\n",
    "    reds = sum(balls == \"Red\")\n",
    "    greens = sum(balls == \"Green\")\n",
    "\n",
    "\n",
    "    # 3 white and 2 red\n",
    "    if whites == 3 and reds == 2:\n",
    "        count_3white_2red += 1\n",
    "\n",
    "    prob_3white_2red = count_3white_2red/n_simulations\n",
    "\n",
    "    # 5 balls being same\n",
    "    if whites == 5 or greens == 5 or reds ==5:\n",
    "        count_balls_all_same += 1\n",
    "\n",
    "    prob_balls_all_same = count_balls_all_same/n_simulations\n",
    "\n"
   ]
  },
  {
   "cell_type": "code",
   "execution_count": 54,
   "id": "a9ccb1c8",
   "metadata": {},
   "outputs": [
    {
     "data": {
      "text/plain": [
       "0.003"
      ]
     },
     "execution_count": 54,
     "metadata": {},
     "output_type": "execute_result"
    }
   ],
   "source": [
    "prob_3white_2red"
   ]
  },
  {
   "cell_type": "code",
   "execution_count": 55,
   "id": "e0334ac3",
   "metadata": {},
   "outputs": [
    {
     "data": {
      "text/plain": [
       "0.033"
      ]
     },
     "execution_count": 55,
     "metadata": {},
     "output_type": "execute_result"
    }
   ],
   "source": [
    "prob_balls_all_same"
   ]
  },
  {
   "cell_type": "code",
   "execution_count": 16,
   "id": "7cff6a3f",
   "metadata": {},
   "outputs": [
    {
     "data": {
      "text/plain": [
       "np.int64(4)"
      ]
     },
     "execution_count": 16,
     "metadata": {},
     "output_type": "execute_result"
    }
   ],
   "source": [
    "sum(np.array(list_3white_2red) == \"Green\")"
   ]
  },
  {
   "cell_type": "code",
   "execution_count": 15,
   "id": "09456f37",
   "metadata": {},
   "outputs": [
    {
     "data": {
      "text/plain": [
       "['Green', 'Green', 'Green', 'White', 'Green']"
      ]
     },
     "execution_count": 15,
     "metadata": {},
     "output_type": "execute_result"
    }
   ],
   "source": [
    "list_3white_2red"
   ]
  }
 ],
 "metadata": {
  "kernelspec": {
   "display_name": "Python 3",
   "language": "python",
   "name": "python3"
  },
  "language_info": {
   "codemirror_mode": {
    "name": "ipython",
    "version": 3
   },
   "file_extension": ".py",
   "mimetype": "text/x-python",
   "name": "python",
   "nbconvert_exporter": "python",
   "pygments_lexer": "ipython3",
   "version": "3.11.4"
  }
 },
 "nbformat": 4,
 "nbformat_minor": 5
}
